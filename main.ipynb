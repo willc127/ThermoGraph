{
 "cells": [
  {
   "cell_type": "code",
   "execution_count": 2,
   "metadata": {},
   "outputs": [],
   "source": [
    "import pandas as pd\n",
    "import numpy as np\n",
    "import matplotlib.pyplot as plt"
   ]
  },
  {
   "cell_type": "code",
   "execution_count": 3,
   "metadata": {},
   "outputs": [],
   "source": [
    "pressao_vapor_perry = pd.read_csv(\"tabelas/pressao_vapor.csv\")\n",
    "lista_nomes = pressao_vapor_perry['Name'].tolist()"
   ]
  },
  {
   "cell_type": "markdown",
   "metadata": {},
   "source": [
    "## Pressão de vapor"
   ]
  },
  {
   "cell_type": "code",
   "execution_count": 2,
   "metadata": {},
   "outputs": [],
   "source": [
    "\n",
    "pressao_vapor_perry = pd.read_csv(\"pressao_vapor.csv\")\n",
    "\n",
    "def calc_pressao_vapor(compound: str):\n",
    "    row_compound = pressao_vapor_perry[pressao_vapor_perry['Name'] == compound]\n",
    "    C1 = row_compound['C1'].iloc[0]\n",
    "    C2 = row_compound['C2'].iloc[0]\n",
    "    C3 = row_compound['C3'].iloc[0]\n",
    "    C4 = row_compound['C4'].iloc[0]\n",
    "    C5 = row_compound['C5'].iloc[0]\n",
    "    Tmin =row_compound['Tmin'].iloc[0]\n",
    "    Tmax =row_compound['Tmax'].iloc[0]\n",
    "    T_range = np.linspace(Tmin, Tmax, 2000)\n",
    "    pressao_vapor = []\n",
    "    for T in T_range:\n",
    "        pressao_vapor.append(np.exp(C1 + C2/T + C3*np.log(T) + C4*(T**C5)))\n",
    "    return T_range, pressao_vapor\n"
   ]
  },
  {
   "cell_type": "markdown",
   "metadata": {},
   "source": [
    "## Densidade e volume molar"
   ]
  },
  {
   "cell_type": "code",
   "execution_count": 3,
   "metadata": {},
   "outputs": [],
   "source": [
    "densidade_molar_perry = pd.read_csv(\"densidade_molar.csv\")\n",
    "\n",
    "def calc_density(compound: str):\n",
    "    row_compound = densidade_molar_perry[densidade_molar_perry['Name'] == compound]\n",
    "    C1 = row_compound['C1'].iloc[0]\n",
    "    C2 = row_compound['C2'].iloc[0]\n",
    "    C3 = row_compound['C3'].iloc[0]\n",
    "    C4 = row_compound['C4'].iloc[0]\n",
    "    Tmin =row_compound['Tmin'].iloc[0]\n",
    "    Tmax =row_compound['Tmax'].iloc[0]\n",
    "    T_range = np.linspace(Tmin, Tmax, 2000)\n",
    "    densidade_molar = []\n",
    "    volume_molar = []\n",
    "    for T in T_range:\n",
    "        if compound == 'Water' or compound == 'o-Terphenyl':\n",
    "            densidade_molar.append(C1 + C2*T + C3*(T**2) + C4*(T**3))\n",
    "            volume_molar.append(1/(C1 + C2*T + C3*(T**2) + C4*(T**3)))\n",
    "        else:\n",
    "            densidade_molar.append(C1/(C2**(1+(1-T/C3)**C4)))\n",
    "            volume_molar.append(1/(C1/(C2**(1+(1-T/C3)**C4))))\n",
    "    return T_range, densidade_molar, volume_molar\n"
   ]
  },
  {
   "cell_type": "markdown",
   "metadata": {},
   "source": [
    "$$\\Delta H_{vap}$$"
   ]
  },
  {
   "cell_type": "code",
   "execution_count": 17,
   "metadata": {},
   "outputs": [],
   "source": [
    "entalpia_perry = pd.read_csv(\"tabelas/entalpia_vap.csv\")\n",
    "criticos_perry = pd.read_csv(\"tabelas/criticos.csv\")\n",
    "\n",
    "def calc_entalpia_vap(compound: str):\n",
    "    row_compound = entalpia_perry[entalpia_perry['Name'] == compound]\n",
    "    row_compound_criticos = criticos_perry[criticos_perry['Name'] == compound]\n",
    "    Tc = float(row_compound_criticos['Tc'].iloc[0])\n",
    "    C1 = float(row_compound['C1'].iloc[0])\n",
    "    C2 = float(row_compound['C2'].iloc[0])\n",
    "    C3 = float(row_compound['C3'].iloc[0])\n",
    "    C4 = float(row_compound['C4'].iloc[0])\n",
    "    Tmin =float(row_compound['Tmin'].iloc[0])\n",
    "    Tmax =float(row_compound['Tmax'].iloc[0])\n",
    "    T_range = np.linspace(Tmin, Tmax, 2000)\n",
    "    entalpia_vap = []\n",
    "    for T in T_range:\n",
    "        entalpia_vap.append(C1*(1-T/Tc)**(C2+C3*T/Tc+C4*(T/Tc)**2))\n",
    "    return T_range, entalpia_vap"
   ]
  },
  {
   "cell_type": "code",
   "execution_count": 19,
   "metadata": {},
   "outputs": [],
   "source": [
    "x,y = calc_entalpia_vap('Water')"
   ]
  },
  {
   "cell_type": "code",
   "execution_count": 20,
   "metadata": {},
   "outputs": [
    {
     "data": {
      "text/plain": [
       "[<matplotlib.lines.Line2D at 0x23573238050>]"
      ]
     },
     "execution_count": 20,
     "metadata": {},
     "output_type": "execute_result"
    },
    {
     "data": {
      "image/png": "[encoded data removed]",
      "text/plain": [
       "<Figure size 640x480 with 1 Axes>"
      ]
     },
     "metadata": {},
     "output_type": "display_data"
    }
   ],
   "source": [
    "plt.plot(x,y)"
   ]
  }
 ],
 "metadata": {
  "kernelspec": {
   "display_name": "Python 3",
   "language": "python",
   "name": "python3"
  },
  "language_info": {
   "codemirror_mode": {
    "name": "ipython",
    "version": 3
   },
   "file_extension": ".py",
   "mimetype": "text/x-python",
   "name": "python",
   "nbconvert_exporter": "python",
   "pygments_lexer": "ipython3",
   "version": "3.11.4"
  }
 },
 "nbformat": 4,
 "nbformat_minor": 2
}
