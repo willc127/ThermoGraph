{
 "cells": [
  {
   "cell_type": "code",
   "execution_count": null,
   "metadata": {},
   "outputs": [],
   "source": [
    "import tabula\n",
    "import pandas as pd"
   ]
  },
  {
   "cell_type": "code",
   "execution_count": null,
   "metadata": {},
   "outputs": [],
   "source": [
    "pdf_path = \"perry.pdf\"\n",
    "\n",
    "dfs = tabula.read_pdf(pdf_path, stream=True, pages=\"88-93\")\n",
    "# read_pdf returns list of DataFrames\n",
    "print(len(dfs))"
   ]
  },
  {
   "cell_type": "code",
   "execution_count": null,
   "metadata": {},
   "outputs": [],
   "source": [
    "dfs[0]\n",
    "# Rename the columns\n",
    "dfs[0].rename(columns={'Cmpd . no .*': 'compound', 'Tmin, K': 'Tmin', 'P at Tmin': 'Pmin', 'Tmax, K': 'Tmax', 'P at Tmax': 'Pmax'}, inplace=True)"
   ]
  },
  {
   "cell_type": "code",
   "execution_count": null,
   "metadata": {},
   "outputs": [],
   "source": [
    "dfs[0]"
   ]
  },
  {
   "cell_type": "code",
   "execution_count": null,
   "metadata": {},
   "outputs": [],
   "source": [
    "dfs[1].drop(columns=['Name'], inplace=True)\n"
   ]
  },
  {
   "cell_type": "code",
   "execution_count": null,
   "metadata": {},
   "outputs": [],
   "source": [
    "dfs[1]\n",
    "# Rename the columns\n",
    "dfs[1].rename(columns={'Unnamed: 0':'Name',\t'Cmpd . no .*': 'compound', 'Tmin, K': 'Tmin', 'P at Tmin': 'Pmin', 'Tmax, K': 'Tmax', 'P at Tmax': 'Pmax'}, inplace=True)"
   ]
  },
  {
   "cell_type": "code",
   "execution_count": null,
   "metadata": {},
   "outputs": [],
   "source": [
    "dfs[1]"
   ]
  },
  {
   "cell_type": "code",
   "execution_count": null,
   "metadata": {},
   "outputs": [],
   "source": [
    "dfs[1].columns"
   ]
  },
  {
   "cell_type": "code",
   "execution_count": null,
   "metadata": {},
   "outputs": [],
   "source": [
    "dfs2_linha = dfs[2].columns\n",
    "dfs2_linha_df = pd.DataFrame(dfs2_linha)\n",
    "dfs2 = dfs2_linha_df.T\n",
    "dfs2.columns = ['compound', 'Name', 'Formula', 'CAS', 'C1', 'C2', 'C3', 'C4', 'C5',\n",
    "       'Tmin', 'Pmin', 'Tmax', 'Pmax']\n",
    "dfs2\n",
    "column_names = ['compound', 'Name', 'Formula', 'CAS', 'C1', 'C2', 'C3', 'C4', 'C5',\n",
    "       'Tmin', 'Pmin', 'Tmax', 'Pmax']\n",
    "\n",
    "dfs[2].columns=column_names\n",
    "dfs[2]\n",
    "merged_ds2 = pd.concat([dfs2, dfs[2]], ignore_index=True)\n",
    "merged_ds2"
   ]
  },
  {
   "cell_type": "code",
   "execution_count": null,
   "metadata": {},
   "outputs": [],
   "source": [
    "dfs[3]\n",
    "# Rename the columns\n",
    "dfs[3].rename(columns={'Cmpd . no .*': 'compound', 'Tmin, K': 'Tmin', 'P at Tmin': 'Pmin', 'Tmax, K': 'Tmax', 'P at Tmax': 'Pmax'}, inplace=True)"
   ]
  },
  {
   "cell_type": "code",
   "execution_count": null,
   "metadata": {},
   "outputs": [],
   "source": [
    "dfs[3]"
   ]
  },
  {
   "cell_type": "code",
   "execution_count": null,
   "metadata": {},
   "outputs": [],
   "source": [
    "dfs4_linha = dfs[4].columns\n",
    "dfs4_linha_df = pd.DataFrame(dfs4_linha)\n",
    "dfs4 = dfs4_linha_df.T\n",
    "dfs4.columns = ['compound', 'Name', 'Formula', 'CAS', 'C1', 'C2', 'C3', 'C4', 'C5',\n",
    "       'Tmin', 'Pmin', 'Tmax', 'Pmax']\n",
    "column_names = ['compound', 'Name', 'Formula', 'CAS', 'C1', 'C2', 'C3', 'C4', 'C5',\n",
    "       'Tmin', 'Pmin', 'Tmax', 'Pmax']\n",
    "\n",
    "dfs[4].columns=column_names\n",
    "dfs[4]\n",
    "merged_ds4 = pd.concat([dfs4, dfs[4]], ignore_index=True)\n",
    "merged_ds4"
   ]
  },
  {
   "cell_type": "code",
   "execution_count": null,
   "metadata": {},
   "outputs": [],
   "source": [
    "# Rename the columns\n",
    "dfs[5].rename(columns={'Cmpd . no .*': 'compound', 'Tmin, K': 'Tmin', 'P at Tmin': 'Pmin', 'Tmax, K': 'Tmax', 'P at Tmax': 'Pmax'}, inplace=True)\n",
    "dfs[5]"
   ]
  },
  {
   "cell_type": "code",
   "execution_count": null,
   "metadata": {},
   "outputs": [],
   "source": [
    "pressao_vapor = pd.concat([dfs[0], dfs[1], merged_ds2,dfs[3], merged_ds4, dfs[5]], ignore_index=True)"
   ]
  },
  {
   "cell_type": "code",
   "execution_count": null,
   "metadata": {},
   "outputs": [],
   "source": [
    "pd.set_option('display.float_format', '{:.5e}'.format)\n",
    "pressao_vapor"
   ]
  },
  {
   "cell_type": "code",
   "execution_count": null,
   "metadata": {},
   "outputs": [],
   "source": [
    "pressao_vapor.to_csv('pressao_vapor.csv', index=False, float_format='%.5e')"
   ]
  },
  {
   "cell_type": "code",
   "execution_count": null,
   "metadata": {},
   "outputs": [],
   "source": [
    "pressao_vapor = pressao_vapor.fillna({'C4': \"0\"})\n",
    "pressao_vapor = pressao_vapor.fillna({'C5': \"0\"})\n",
    "tabela_perry_pronta = pressao_vapor\n",
    "tabela_perry_pronta"
   ]
  },
  {
   "cell_type": "code",
   "execution_count": null,
   "metadata": {},
   "outputs": [],
   "source": [
    "import re\n",
    "# Remova espaços em branco e o sinal de menos\n",
    "for i in range(len(tabela_perry_pronta)):\n",
    "    tabela_perry_pronta['C1'][i] = float(re.sub(r'[^\\d.-E]', '',tabela_perry_pronta['C1'][i].replace(\" \", \"\").replace(\"−\", \"-\")))\n",
    "    tabela_perry_pronta['C2'][i] = -float(re.sub(r'[^\\d.E]', '',tabela_perry_pronta['C2'][i].replace(\" \", \"\").replace(\"−\", \"-\")))\n",
    "    tabela_perry_pronta['C3'][i] = -float(re.sub(r'[^\\d.E]', '',tabela_perry_pronta['C3'][i].replace(\" \", \"\")))\n",
    "    tabela_perry_pronta['C4'][i] = float(re.sub(r'[^\\d.-E-]', '',tabela_perry_pronta['C4'][i].replace(\" \", \"\").replace(\"−\", \"-\")))\n",
    "    tabela_perry_pronta['Tmin'][i] = float(re.sub(r'[^\\d.-E]', '',tabela_perry_pronta['Tmin'][i].replace(\" \", \"\").replace(\"−\", \"-\")))\n",
    "    tabela_perry_pronta['Pmin'][i] = float(re.sub(r'[^\\d.-E]', '',tabela_perry_pronta['Pmin'][i].replace(\" \", \"\").replace(\"−\", \"-\")))\n",
    "    tabela_perry_pronta['Tmax'][i] = float(re.sub(r'[^\\d.-E]', '',tabela_perry_pronta['Tmax'][i].replace(\" \", \"\").replace(\"−\", \"-\")))\n",
    "    tabela_perry_pronta['Pmax'][i] = float(re.sub(r'[^\\d.-E]', '',tabela_perry_pronta['Pmax'][i].replace(\" \", \"\").replace(\"−\", \"-\")))"
   ]
  },
  {
   "cell_type": "code",
   "execution_count": null,
   "metadata": {},
   "outputs": [],
   "source": [
    "tabela_perry_pronta"
   ]
  },
  {
   "cell_type": "code",
   "execution_count": null,
   "metadata": {},
   "outputs": [],
   "source": [
    "tabela_perry_pronta_convertida = tabela_perry_pronta\n",
    "tabela_perry_pronta_convertida"
   ]
  },
  {
   "cell_type": "code",
   "execution_count": null,
   "metadata": {},
   "outputs": [],
   "source": [
    "tabela_perry_pronta_convertida.to_csv('pressao_vapor.csv', index=False, float_format='%.5e')"
   ]
  },
  {
   "cell_type": "code",
   "execution_count": 1,
   "metadata": {},
   "outputs": [
    {
     "ename": "NameError",
     "evalue": "name 'pd' is not defined",
     "output_type": "error",
     "traceback": [
      "\u001b[1;31m---------------------------------------------------------------------------\u001b[0m",
      "\u001b[1;31mNameError\u001b[0m                                 Traceback (most recent call last)",
      "Cell \u001b[1;32mIn[1], line 1\u001b[0m\n\u001b[1;32m----> 1\u001b[0m \u001b[43mpd\u001b[49m\u001b[38;5;241m.\u001b[39mread_csv(\u001b[38;5;124m'\u001b[39m\u001b[38;5;124mpressao_vapor.csv\u001b[39m\u001b[38;5;124m'\u001b[39m)\n",
      "\u001b[1;31mNameError\u001b[0m: name 'pd' is not defined"
     ]
    }
   ],
   "source": [
    "pd.read_csv('pressao_vapor.csv')"
   ]
  }
 ],
 "metadata": {
  "kernelspec": {
   "display_name": "Python 3",
   "language": "python",
   "name": "python3"
  },
  "language_info": {
   "codemirror_mode": {
    "name": "ipython",
    "version": 3
   },
   "file_extension": ".py",
   "mimetype": "text/x-python",
   "name": "python",
   "nbconvert_exporter": "python",
   "pygments_lexer": "ipython3",
   "version": "3.11.4"
  }
 },
 "nbformat": 4,
 "nbformat_minor": 2
}
